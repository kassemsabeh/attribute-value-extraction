{
 "cells": [
  {
   "cell_type": "code",
   "execution_count": 3,
   "metadata": {},
   "outputs": [],
   "source": [
    "import pandas as pd\n",
    "import numpy as np\n",
    "import tensorflow as tf"
   ]
  },
  {
   "cell_type": "code",
   "execution_count": 4,
   "metadata": {},
   "outputs": [],
   "source": [
    "# Run the ecxtract_data script to transform data into a dataframe\n",
    "# %run -i 'extract_data.py'"
   ]
  },
  {
   "cell_type": "code",
   "execution_count": 5,
   "metadata": {},
   "outputs": [
    {
     "data": {
      "text/html": [
       "<div>\n",
       "<style scoped>\n",
       "    .dataframe tbody tr th:only-of-type {\n",
       "        vertical-align: middle;\n",
       "    }\n",
       "\n",
       "    .dataframe tbody tr th {\n",
       "        vertical-align: top;\n",
       "    }\n",
       "\n",
       "    .dataframe thead th {\n",
       "        text-align: right;\n",
       "    }\n",
       "</style>\n",
       "<table border=\"1\" class=\"dataframe\">\n",
       "  <thead>\n",
       "    <tr style=\"text-align: right;\">\n",
       "      <th></th>\n",
       "      <th>Title</th>\n",
       "      <th>Brand Name</th>\n",
       "      <th>Material</th>\n",
       "      <th>Color</th>\n",
       "      <th>Category</th>\n",
       "    </tr>\n",
       "  </thead>\n",
       "  <tbody>\n",
       "    <tr>\n",
       "      <th>0</th>\n",
       "      <td>#7 luka doncic euroleague basketball jersey wh...</td>\n",
       "      <td>NaN</td>\n",
       "      <td>polyester</td>\n",
       "      <td>NaN</td>\n",
       "      <td>NaN</td>\n",
       "    </tr>\n",
       "    <tr>\n",
       "      <th>1</th>\n",
       "      <td>#yo tambien skateboarding t-shirts print #meto...</td>\n",
       "      <td>NaN</td>\n",
       "      <td>cotton</td>\n",
       "      <td>NaN</td>\n",
       "      <td>NaN</td>\n",
       "    </tr>\n",
       "    <tr>\n",
       "      <th>2</th>\n",
       "      <td>(ootdty)10pcs smell plastic worm soft bait art...</td>\n",
       "      <td>ootdty</td>\n",
       "      <td>NaN</td>\n",
       "      <td>NaN</td>\n",
       "      <td>NaN</td>\n",
       "    </tr>\n",
       "    <tr>\n",
       "      <th>3</th>\n",
       "      <td>-10 degree winter outdoor camping tent cotton ...</td>\n",
       "      <td>NaN</td>\n",
       "      <td>NaN</td>\n",
       "      <td>NaN</td>\n",
       "      <td>cotton sleeping bag</td>\n",
       "    </tr>\n",
       "    <tr>\n",
       "      <th>4</th>\n",
       "      <td>0.4mm-1.2mm yoga rubber resistance bands 50cmx...</td>\n",
       "      <td>NaN</td>\n",
       "      <td>rubber</td>\n",
       "      <td>NaN</td>\n",
       "      <td>NaN</td>\n",
       "    </tr>\n",
       "    <tr>\n",
       "      <th>5</th>\n",
       "      <td>0.6# 0.8#jof 150m 8 strands 100% pe braided fi...</td>\n",
       "      <td>jof</td>\n",
       "      <td>NaN</td>\n",
       "      <td>NaN</td>\n",
       "      <td>NaN</td>\n",
       "    </tr>\n",
       "    <tr>\n",
       "      <th>6</th>\n",
       "      <td>0.8#-8#  500m nylon fishing line super strong ...</td>\n",
       "      <td>NaN</td>\n",
       "      <td>nylon</td>\n",
       "      <td>NaN</td>\n",
       "      <td>NaN</td>\n",
       "    </tr>\n",
       "    <tr>\n",
       "      <th>7</th>\n",
       "      <td>0.8m outdoor activity pvc inflatable bumper bu...</td>\n",
       "      <td>NaN</td>\n",
       "      <td>pvc</td>\n",
       "      <td>NaN</td>\n",
       "      <td>NaN</td>\n",
       "    </tr>\n",
       "    <tr>\n",
       "      <th>8</th>\n",
       "      <td>1 cookware set outdoor stove oven cooking hiki...</td>\n",
       "      <td>NaN</td>\n",
       "      <td>NaN</td>\n",
       "      <td>NaN</td>\n",
       "      <td>gas stove</td>\n",
       "    </tr>\n",
       "    <tr>\n",
       "      <th>9</th>\n",
       "      <td>1 deck pvc poker waterproof plastic playing ca...</td>\n",
       "      <td>NaN</td>\n",
       "      <td>plastic</td>\n",
       "      <td>NaN</td>\n",
       "      <td>NaN</td>\n",
       "    </tr>\n",
       "  </tbody>\n",
       "</table>\n",
       "</div>"
      ],
      "text/plain": [
       "                                               Title Brand Name   Material  \\\n",
       "0  #7 luka doncic euroleague basketball jersey wh...        NaN  polyester   \n",
       "1  #yo tambien skateboarding t-shirts print #meto...        NaN     cotton   \n",
       "2  (ootdty)10pcs smell plastic worm soft bait art...     ootdty        NaN   \n",
       "3  -10 degree winter outdoor camping tent cotton ...        NaN        NaN   \n",
       "4  0.4mm-1.2mm yoga rubber resistance bands 50cmx...        NaN     rubber   \n",
       "5  0.6# 0.8#jof 150m 8 strands 100% pe braided fi...        jof        NaN   \n",
       "6  0.8#-8#  500m nylon fishing line super strong ...        NaN      nylon   \n",
       "7  0.8m outdoor activity pvc inflatable bumper bu...        NaN        pvc   \n",
       "8  1 cookware set outdoor stove oven cooking hiki...        NaN        NaN   \n",
       "9  1 deck pvc poker waterproof plastic playing ca...        NaN    plastic   \n",
       "\n",
       "  Color             Category  \n",
       "0   NaN                  NaN  \n",
       "1   NaN                  NaN  \n",
       "2   NaN                  NaN  \n",
       "3   NaN  cotton sleeping bag  \n",
       "4   NaN                  NaN  \n",
       "5   NaN                  NaN  \n",
       "6   NaN                  NaN  \n",
       "7   NaN                  NaN  \n",
       "8   NaN            gas stove  \n",
       "9   NaN                  NaN  "
      ]
     },
     "execution_count": 5,
     "metadata": {},
     "output_type": "execute_result"
    }
   ],
   "source": [
    "# Read csv file into a dataframe\n",
    "data = pd.read_csv('data/published_data.csv')\n",
    "data.head(10)"
   ]
  },
  {
   "cell_type": "code",
   "execution_count": 4,
   "metadata": {},
   "outputs": [],
   "source": [
    "# Use tagger to tag the data with BIO\n",
    "from utils.sequence_tagger import Tagger\n",
    "bio_tagger = Tagger()\n",
    "sentences, tags = bio_tagger.bio_tag(data)"
   ]
  },
  {
   "cell_type": "code",
   "execution_count": 5,
   "metadata": {},
   "outputs": [],
   "source": [
    "# Sanity check on data\n",
    "for i, (s, t) in enumerate(zip(sentences, tags)):\n",
    "    if len(s) != len(t):\n",
    "        print(\"ERROR!\")\n",
    "        print(i)"
   ]
  },
  {
   "cell_type": "code",
   "execution_count": 6,
   "metadata": {},
   "outputs": [
    {
     "data": {
      "text/plain": [
       "(12722, 12722)"
      ]
     },
     "execution_count": 6,
     "metadata": {},
     "output_type": "execute_result"
    }
   ],
   "source": [
    "len(sentences), len(tags)"
   ]
  },
  {
   "cell_type": "code",
   "execution_count": 7,
   "metadata": {},
   "outputs": [
    {
     "name": "stdout",
     "output_type": "stream",
     "text": [
      "['10', 'pcs/set', 'thick', 'golf', 'iron', 'headcover', 'pu', 'leather', 'golf', 'head', 'cover', 'with', 'heart', 'pattern', 'for', 'closure', '3-pw', 'club', 'protect', 'cover', 'with', 'gift']\n",
      "['O', 'O', 'O', 'O', 'O', 'O', 'B-Material', 'I-Material', 'I-Material', 'I-Material', 'I-Material', 'O', 'O', 'O', 'O', 'O', 'O', 'O', 'O', 'O', 'O', 'O']\n"
     ]
    }
   ],
   "source": [
    "# Example of a tagged product description\n",
    "print(sentences[63])\n",
    "print(tags[63])"
   ]
  },
  {
   "cell_type": "code",
   "execution_count": 8,
   "metadata": {},
   "outputs": [],
   "source": [
    "# Process sequences from sequential models\n",
    "from preprocessing.sequences import SequencePreprocessor\n",
    "sequence_processor = SequencePreprocessor()"
   ]
  },
  {
   "cell_type": "code",
   "execution_count": 9,
   "metadata": {},
   "outputs": [
    {
     "data": {
      "text/plain": [
       "((8905, 61), (1908, 61), (1909, 61))"
      ]
     },
     "execution_count": 9,
     "metadata": {},
     "output_type": "execute_result"
    }
   ],
   "source": [
    "X_train, X_dev, X_test = sequence_processor.process_word_sequences(sentences, tags)\n",
    "X_train.shape, X_dev.shape, X_test.shape"
   ]
  },
  {
   "cell_type": "code",
   "execution_count": 10,
   "metadata": {},
   "outputs": [
    {
     "data": {
      "text/plain": [
       "((8905, 61), (1908, 61), (1909, 61))"
      ]
     },
     "execution_count": 10,
     "metadata": {},
     "output_type": "execute_result"
    }
   ],
   "source": [
    "y_train, y_dev, y_test = sequence_processor.process_tag_sequences(sentences, tags)\n",
    "y_train.shape, y_dev.shape, y_test.shape"
   ]
  },
  {
   "cell_type": "code",
   "execution_count": 11,
   "metadata": {},
   "outputs": [
    {
     "data": {
      "text/plain": [
       "(8905, 61, 10)"
      ]
     },
     "execution_count": 11,
     "metadata": {},
     "output_type": "execute_result"
    }
   ],
   "source": [
    "X_train_char, X_dev_char, X_test_char = sequence_processor.process_characters(10)\n",
    "X_train_char.shape"
   ]
  },
  {
   "cell_type": "code",
   "execution_count": 12,
   "metadata": {},
   "outputs": [],
   "source": [
    "# Get matrix representation of pretrained glove embeddings\n",
    "from utils.embeddings import GloveEmbeddings\n",
    "glove_embeddings = GloveEmbeddings()\n",
    "embedding_matrix = glove_embeddings.create_embeddings(sequence_processor.token_num, sequence_processor.word_tokenizer)"
   ]
  },
  {
   "cell_type": "code",
   "execution_count": 13,
   "metadata": {},
   "outputs": [],
   "source": [
    "from tf2crf import ModelWithCRFLoss\n",
    "from models.sequence_models import LstmCrf\n",
    "from models.sequence_models import OpenTag\n",
    "from models.sequence_models import OpenBrandCNN"
   ]
  },
  {
   "cell_type": "code",
   "execution_count": 14,
   "metadata": {},
   "outputs": [],
   "source": [
    "# Define lstm_crf model\n",
    "lstm_crf = LstmCrf(sequence_processor, embedding_matrix)"
   ]
  },
  {
   "cell_type": "code",
   "execution_count": 15,
   "metadata": {},
   "outputs": [],
   "source": [
    "lstm_crf_model = ModelWithCRFLoss(lstm_crf, sparse_target=True)\n",
    "lstm_crf_model.compile(loss='sparse_categorical_crossentropy',\n",
    "                      optimizer='adam',\n",
    "                      metrics=['sparse_categorical_accuracy'])"
   ]
  },
  {
   "cell_type": "code",
   "execution_count": 14,
   "metadata": {},
   "outputs": [],
   "source": [
    "# Define an early stopping criteria \n",
    "early_stopping_cb = tf.keras.callbacks.EarlyStopping(monitor='val_loss_val',patience=3,\n",
    "restore_best_weights=True) "
   ]
  },
  {
   "cell_type": "code",
   "execution_count": 17,
   "metadata": {},
   "outputs": [
    {
     "name": "stdout",
     "output_type": "stream",
     "text": [
      "Epoch 1/30\n"
     ]
    },
    {
     "name": "stderr",
     "output_type": "stream",
     "text": [
      "/Users/kassemsabeh/opt/anaconda3/envs/general/lib/python3.8/site-packages/tensorflow/python/autograph/impl/api.py:376: UserWarning: CRF decoding models have serialization issues in TF >=2.5 . Please see isse #2476\n",
      "  return py_builtins.overload_of(f)(*args)\n"
     ]
    },
    {
     "name": "stdout",
     "output_type": "stream",
     "text": [
      "279/279 [==============================] - 30s 90ms/step - loss: 10.3630 - accuracy: 0.9537 - val_loss_val: 3.1895 - val_val_accuracy: 0.9859\n",
      "Epoch 2/30\n",
      "279/279 [==============================] - 25s 89ms/step - loss: 2.3904 - accuracy: 0.9894 - val_loss_val: 1.8970 - val_val_accuracy: 0.9915\n",
      "Epoch 3/30\n",
      "279/279 [==============================] - 24s 85ms/step - loss: 1.5362 - accuracy: 0.9928 - val_loss_val: 1.4412 - val_val_accuracy: 0.9930\n",
      "Epoch 4/30\n",
      "279/279 [==============================] - 23s 83ms/step - loss: 1.1586 - accuracy: 0.9942 - val_loss_val: 1.2212 - val_val_accuracy: 0.9941\n",
      "Epoch 5/30\n",
      "279/279 [==============================] - 22s 79ms/step - loss: 0.9037 - accuracy: 0.9953 - val_loss_val: 1.1164 - val_val_accuracy: 0.9945\n",
      "Epoch 6/30\n",
      "279/279 [==============================] - 22s 79ms/step - loss: 0.7429 - accuracy: 0.9960 - val_loss_val: 1.0645 - val_val_accuracy: 0.9946\n",
      "Epoch 7/30\n",
      "279/279 [==============================] - 22s 80ms/step - loss: 0.5887 - accuracy: 0.9968 - val_loss_val: 1.0496 - val_val_accuracy: 0.9947\n",
      "Epoch 8/30\n",
      "279/279 [==============================] - 22s 79ms/step - loss: 0.4730 - accuracy: 0.9974 - val_loss_val: 1.0869 - val_val_accuracy: 0.9949\n",
      "Epoch 9/30\n",
      "279/279 [==============================] - 22s 78ms/step - loss: 0.3877 - accuracy: 0.9978 - val_loss_val: 1.1025 - val_val_accuracy: 0.9952\n",
      "Epoch 10/30\n",
      "279/279 [==============================] - 22s 77ms/step - loss: 0.3158 - accuracy: 0.9982 - val_loss_val: 1.1697 - val_val_accuracy: 0.9951\n"
     ]
    },
    {
     "data": {
      "text/plain": [
       "<keras.callbacks.History at 0x7fb4eaae7790>"
      ]
     },
     "execution_count": 17,
     "metadata": {},
     "output_type": "execute_result"
    }
   ],
   "source": [
    "lstm_crf_model.fit(X_train, y_train, batch_size=32, epochs=30, validation_data=(X_dev, y_dev), callbacks=[early_stopping_cb])"
   ]
  },
  {
   "cell_type": "code",
   "execution_count": 15,
   "metadata": {},
   "outputs": [],
   "source": [
    "from models.sequence_eval import evaluate_model\n",
    "from models.sequence_eval import evaluate_open_brand"
   ]
  },
  {
   "cell_type": "code",
   "execution_count": 19,
   "metadata": {},
   "outputs": [
    {
     "name": "stderr",
     "output_type": "stream",
     "text": [
      "/Users/kassemsabeh/opt/anaconda3/envs/general/lib/python3.8/site-packages/seqeval/metrics/sequence_labeling.py:171: UserWarning: 0 seems not to be NE tag.\n",
      "  warnings.warn('{} seems not to be NE tag.'.format(chunk))\n",
      "/Users/kassemsabeh/opt/anaconda3/envs/general/lib/python3.8/site-packages/seqeval/metrics/v1.py:57: UndefinedMetricWarning: Recall and F-score are ill-defined and being set to 0.0 in labels with no true samples. Use `zero_division` parameter to control this behavior.\n",
      "  _warn_prf(average, modifier, msg_start, len(result))\n"
     ]
    },
    {
     "name": "stdout",
     "output_type": "stream",
     "text": [
      "              precision    recall  f1-score   support\n",
      "\n",
      "       Brand       0.96      0.96      0.96      1420\n",
      "    Category       0.64      0.64      0.64       149\n",
      "       Color       0.47      0.35      0.40        82\n",
      "    Material       0.73      0.78      0.75       438\n",
      "           _       0.00      0.00      0.00         0\n",
      "\n",
      "   micro avg       0.86      0.88      0.87      2089\n",
      "   macro avg       0.56      0.55      0.55      2089\n",
      "weighted avg       0.87      0.88      0.87      2089\n",
      "\n",
      "0.8709907341411263\n"
     ]
    }
   ],
   "source": [
    "evaluate_model(lstm_crf_model, sequence_processor)"
   ]
  },
  {
   "cell_type": "code",
   "execution_count": 20,
   "metadata": {},
   "outputs": [],
   "source": [
    "open_tag = OpenTag(sequence_processor, embedding_matrix)"
   ]
  },
  {
   "cell_type": "code",
   "execution_count": 21,
   "metadata": {},
   "outputs": [],
   "source": [
    "open_tag = ModelWithCRFLoss(open_tag, sparse_target=True)\n",
    "open_tag.compile(loss='sparse_categorical_crossentropy',\n",
    "                      optimizer='adam',\n",
    "                      metrics=['sparse_categorical_accuracy'])"
   ]
  },
  {
   "cell_type": "code",
   "execution_count": 22,
   "metadata": {},
   "outputs": [
    {
     "name": "stdout",
     "output_type": "stream",
     "text": [
      "Epoch 1/30\n",
      "WARNING:tensorflow:Gradients do not exist for variables ['model_with_crf_loss_1/open_tag/attention_layer/Variable:0'] when minimizing the loss.\n",
      "WARNING:tensorflow:Gradients do not exist for variables ['model_with_crf_loss_1/open_tag/attention_layer/Variable:0'] when minimizing the loss.\n",
      "279/279 [==============================] - 35s 108ms/step - loss: 9.0836 - accuracy: 0.9568 - val_loss_val: 2.6837 - val_val_accuracy: 0.9883\n",
      "Epoch 2/30\n",
      "279/279 [==============================] - 33s 118ms/step - loss: 1.9974 - accuracy: 0.9910 - val_loss_val: 1.5767 - val_val_accuracy: 0.9929\n",
      "Epoch 3/30\n",
      "279/279 [==============================] - 30s 108ms/step - loss: 1.3205 - accuracy: 0.9934 - val_loss_val: 1.2087 - val_val_accuracy: 0.9939\n",
      "Epoch 4/30\n",
      "279/279 [==============================] - 29s 104ms/step - loss: 0.9810 - accuracy: 0.9949 - val_loss_val: 1.1385 - val_val_accuracy: 0.9942\n",
      "Epoch 5/30\n",
      "279/279 [==============================] - 30s 109ms/step - loss: 0.7698 - accuracy: 0.9957 - val_loss_val: 1.0168 - val_val_accuracy: 0.9949\n",
      "Epoch 6/30\n",
      "279/279 [==============================] - 31s 110ms/step - loss: 0.6272 - accuracy: 0.9966 - val_loss_val: 1.0114 - val_val_accuracy: 0.9949\n",
      "Epoch 7/30\n",
      "279/279 [==============================] - 31s 111ms/step - loss: 0.5140 - accuracy: 0.9971 - val_loss_val: 1.0256 - val_val_accuracy: 0.9952\n",
      "Epoch 8/30\n",
      "279/279 [==============================] - 31s 111ms/step - loss: 0.4224 - accuracy: 0.9976 - val_loss_val: 1.0534 - val_val_accuracy: 0.9952\n",
      "Epoch 9/30\n",
      "279/279 [==============================] - 30s 106ms/step - loss: 0.3460 - accuracy: 0.9981 - val_loss_val: 1.0852 - val_val_accuracy: 0.9954\n"
     ]
    },
    {
     "data": {
      "text/plain": [
       "<keras.callbacks.History at 0x7fb4ea0834c0>"
      ]
     },
     "execution_count": 22,
     "metadata": {},
     "output_type": "execute_result"
    }
   ],
   "source": [
    "open_tag.fit(X_train, y_train, batch_size=32, epochs=30, validation_data=(X_dev, y_dev), callbacks=[early_stopping_cb])"
   ]
  },
  {
   "cell_type": "code",
   "execution_count": 23,
   "metadata": {},
   "outputs": [
    {
     "name": "stdout",
     "output_type": "stream",
     "text": [
      "              precision    recall  f1-score   support\n",
      "\n",
      "       Brand       0.95      0.97      0.96      1420\n",
      "    Category       0.65      0.70      0.68       149\n",
      "       Color       0.52      0.48      0.50        82\n",
      "    Material       0.74      0.76      0.75       438\n",
      "           _       0.00      0.00      0.00         0\n",
      "\n",
      "   micro avg       0.87      0.89      0.88      2089\n",
      "   macro avg       0.57      0.58      0.58      2089\n",
      "weighted avg       0.87      0.89      0.88      2089\n",
      "\n",
      "0.8758882046423495\n"
     ]
    }
   ],
   "source": [
    "evaluate_model(open_tag, sequence_processor)"
   ]
  },
  {
   "cell_type": "code",
   "execution_count": 16,
   "metadata": {},
   "outputs": [],
   "source": [
    "openbrand_cnn = OpenBrandCNN(sequence_processor, embedding_matrix)\n",
    "openbrand_cnn = ModelWithCRFLoss(openbrand_cnn, sparse_target=True)\n",
    "openbrand_cnn.compile(loss='sparse_categorical_crossentropy',\n",
    "                      optimizer='adam',\n",
    "                      metrics=['sparse_categorical_accuracy'])"
   ]
  },
  {
   "cell_type": "code",
   "execution_count": 18,
   "metadata": {},
   "outputs": [
    {
     "name": "stdout",
     "output_type": "stream",
     "text": [
      "Epoch 1/30\n",
      "279/279 [==============================] - ETA: 0s - loss: 4.0196 - accuracy: 0.9840"
     ]
    },
    {
     "name": "stderr",
     "output_type": "stream",
     "text": [
      "/Users/kassemsabeh/opt/anaconda3/envs/general/lib/python3.8/site-packages/tensorflow/python/autograph/impl/api.py:376: UserWarning: CRF decoding models have serialization issues in TF >=2.5 . Please see isse #2476\n",
      "  return py_builtins.overload_of(f)(*args)\n"
     ]
    },
    {
     "name": "stdout",
     "output_type": "stream",
     "text": [
      "279/279 [==============================] - 54s 194ms/step - loss: 4.0196 - accuracy: 0.9840 - val_loss_val: 2.4825 - val_val_accuracy: 0.9896\n",
      "Epoch 2/30\n",
      "279/279 [==============================] - 49s 176ms/step - loss: 2.1514 - accuracy: 0.9905 - val_loss_val: 1.8785 - val_val_accuracy: 0.9919\n",
      "Epoch 3/30\n",
      "279/279 [==============================] - 48s 171ms/step - loss: 1.6469 - accuracy: 0.9922 - val_loss_val: 1.5216 - val_val_accuracy: 0.9927\n",
      "Epoch 4/30\n",
      "279/279 [==============================] - 47s 170ms/step - loss: 1.3585 - accuracy: 0.9930 - val_loss_val: 1.3276 - val_val_accuracy: 0.9935\n",
      "Epoch 5/30\n",
      "279/279 [==============================] - 49s 175ms/step - loss: 1.1684 - accuracy: 0.9939 - val_loss_val: 1.2074 - val_val_accuracy: 0.9939\n",
      "Epoch 6/30\n",
      "279/279 [==============================] - 48s 173ms/step - loss: 1.0273 - accuracy: 0.9945 - val_loss_val: 1.1389 - val_val_accuracy: 0.9940\n",
      "Epoch 7/30\n",
      "279/279 [==============================] - 47s 169ms/step - loss: 0.9189 - accuracy: 0.9950 - val_loss_val: 1.0895 - val_val_accuracy: 0.9940\n",
      "Epoch 8/30\n",
      "279/279 [==============================] - 47s 169ms/step - loss: 0.8290 - accuracy: 0.9954 - val_loss_val: 1.0873 - val_val_accuracy: 0.9942\n",
      "Epoch 9/30\n",
      "279/279 [==============================] - 47s 169ms/step - loss: 0.7555 - accuracy: 0.9956 - val_loss_val: 1.0219 - val_val_accuracy: 0.9947\n",
      "Epoch 10/30\n",
      "279/279 [==============================] - 47s 169ms/step - loss: 0.6915 - accuracy: 0.9959 - val_loss_val: 0.9995 - val_val_accuracy: 0.9947\n",
      "Epoch 11/30\n",
      "279/279 [==============================] - 47s 169ms/step - loss: 0.6201 - accuracy: 0.9963 - val_loss_val: 0.9484 - val_val_accuracy: 0.9950\n",
      "Epoch 12/30\n",
      "279/279 [==============================] - 47s 170ms/step - loss: 0.5544 - accuracy: 0.9967 - val_loss_val: 0.9378 - val_val_accuracy: 0.9951\n",
      "Epoch 13/30\n",
      "279/279 [==============================] - 47s 169ms/step - loss: 0.5314 - accuracy: 0.9968 - val_loss_val: 0.9300 - val_val_accuracy: 0.9952\n",
      "Epoch 14/30\n",
      "279/279 [==============================] - 46s 165ms/step - loss: 0.4737 - accuracy: 0.9970 - val_loss_val: 0.9961 - val_val_accuracy: 0.9950\n",
      "Epoch 15/30\n",
      "279/279 [==============================] - 46s 165ms/step - loss: 0.4323 - accuracy: 0.9973 - val_loss_val: 0.9450 - val_val_accuracy: 0.9953\n",
      "Epoch 16/30\n",
      "279/279 [==============================] - 46s 166ms/step - loss: 0.4067 - accuracy: 0.9974 - val_loss_val: 0.9565 - val_val_accuracy: 0.9952\n"
     ]
    },
    {
     "data": {
      "text/plain": [
       "<keras.callbacks.History at 0x7fe197305430>"
      ]
     },
     "execution_count": 18,
     "metadata": {},
     "output_type": "execute_result"
    }
   ],
   "source": [
    "openbrand_cnn.fit([X_train,\n",
    "           X_train_char],\n",
    "          y_train,\n",
    "          validation_data=([X_dev, X_dev_char], y_dev),\n",
    "          batch_size=32, epochs=30, callbacks=[early_stopping_cb])"
   ]
  },
  {
   "cell_type": "code",
   "execution_count": 19,
   "metadata": {},
   "outputs": [
    {
     "name": "stdout",
     "output_type": "stream",
     "text": [
      "              precision    recall  f1-score   support\n",
      "\n",
      "       Brand       0.95      0.97      0.96      1420\n",
      "    Category       0.72      0.69      0.70       149\n",
      "       Color       0.60      0.45      0.51        82\n",
      "    Material       0.76      0.79      0.77       438\n",
      "\n",
      "   micro avg       0.89      0.89      0.89      2089\n",
      "   macro avg       0.76      0.72      0.74      2089\n",
      "weighted avg       0.88      0.89      0.89      2089\n",
      "\n",
      "Overall f1: 0.8886765408504539\n"
     ]
    }
   ],
   "source": [
    "evaluate_open_brand(openbrand_cnn, sequence_processor)"
   ]
  }
 ],
 "metadata": {
  "interpreter": {
   "hash": "41249303e74e5579d60fc5cf095f672e4d85dabdbc6d6ec642aec2161381ffa7"
  },
  "kernelspec": {
   "display_name": "Python 3.8.5 64-bit ('general': conda)",
   "name": "python3"
  },
  "language_info": {
   "codemirror_mode": {
    "name": "ipython",
    "version": 3
   },
   "file_extension": ".py",
   "mimetype": "text/x-python",
   "name": "python",
   "nbconvert_exporter": "python",
   "pygments_lexer": "ipython3",
   "version": "3.8.5"
  },
  "orig_nbformat": 4
 },
 "nbformat": 4,
 "nbformat_minor": 2
}
